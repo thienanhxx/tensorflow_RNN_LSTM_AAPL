{
 "cells": [
  {
   "cell_type": "code",
   "execution_count": 1,
   "id": "0a100a9b-3b0b-4bb7-8008-c25f932ea900",
   "metadata": {},
   "outputs": [],
   "source": [
    "import numpy\n",
    "import matplotlib.pyplot as plt\n",
    "import math\n",
    "import pandas as pd\n",
    "from tensorflow.keras import Sequential\n",
    "from tensorflow.keras.layers import Dense\n",
    "from tensorflow.keras.layers import LSTM\n",
    "from sklearn.preprocessing import MinMaxScaler\n",
    "from sklearn.metrics import mean_squared_error, mean_absolute_error"
   ]
  },
  {
   "cell_type": "code",
   "execution_count": 2,
   "id": "ab5f386b-43b6-4aa7-89b9-8c38bdb6059e",
   "metadata": {},
   "outputs": [],
   "source": [
    "# convert an array of values into a dataset matrix\n",
    "def create_dataset(dataset, look_back=1):\n",
    "        dataX, dataY = [], []\n",
    "        for i in range(len(dataset)-look_back-1):\n",
    "        #t\n",
    "                a = dataset[i:(i+look_back), 0]\n",
    "                dataX.append(a)\n",
    "        #t+1\n",
    "                dataY.append(dataset[i + look_back, 0])\n",
    "        return numpy.array(dataX), numpy.array(dataY)"
   ]
  },
  {
   "cell_type": "code",
   "execution_count": 3,
   "id": "6613d9f7-b026-4a51-991f-a9f92da0cd69",
   "metadata": {},
   "outputs": [],
   "source": [
    "numpy.random.seed(7)"
   ]
  },
  {
   "cell_type": "code",
   "execution_count": 4,
   "id": "3302eace-5654-433f-b98e-c178b87d0c64",
   "metadata": {},
   "outputs": [
    {
     "data": {
      "text/html": [
       "<div>\n",
       "<style scoped>\n",
       "    .dataframe tbody tr th:only-of-type {\n",
       "        vertical-align: middle;\n",
       "    }\n",
       "\n",
       "    .dataframe tbody tr th {\n",
       "        vertical-align: top;\n",
       "    }\n",
       "\n",
       "    .dataframe thead th {\n",
       "        text-align: right;\n",
       "    }\n",
       "</style>\n",
       "<table border=\"1\" class=\"dataframe\">\n",
       "  <thead>\n",
       "    <tr style=\"text-align: right;\">\n",
       "      <th></th>\n",
       "      <th>Open</th>\n",
       "      <th>High</th>\n",
       "      <th>Low</th>\n",
       "      <th>Close</th>\n",
       "      <th>Adj Close</th>\n",
       "      <th>Volume</th>\n",
       "    </tr>\n",
       "    <tr>\n",
       "      <th>Date</th>\n",
       "      <th></th>\n",
       "      <th></th>\n",
       "      <th></th>\n",
       "      <th></th>\n",
       "      <th></th>\n",
       "      <th></th>\n",
       "    </tr>\n",
       "  </thead>\n",
       "  <tbody>\n",
       "    <tr>\n",
       "      <th>2016-11-14</th>\n",
       "      <td>26.927500</td>\n",
       "      <td>26.952499</td>\n",
       "      <td>26.020000</td>\n",
       "      <td>26.427500</td>\n",
       "      <td>24.825821</td>\n",
       "      <td>204702000</td>\n",
       "    </tr>\n",
       "    <tr>\n",
       "      <th>2016-11-15</th>\n",
       "      <td>26.642500</td>\n",
       "      <td>26.920000</td>\n",
       "      <td>26.540001</td>\n",
       "      <td>26.777500</td>\n",
       "      <td>25.154610</td>\n",
       "      <td>129058000</td>\n",
       "    </tr>\n",
       "    <tr>\n",
       "      <th>2016-11-16</th>\n",
       "      <td>26.674999</td>\n",
       "      <td>27.557501</td>\n",
       "      <td>26.650000</td>\n",
       "      <td>27.497499</td>\n",
       "      <td>25.830971</td>\n",
       "      <td>235362000</td>\n",
       "    </tr>\n",
       "    <tr>\n",
       "      <th>2016-11-17</th>\n",
       "      <td>27.452499</td>\n",
       "      <td>27.587500</td>\n",
       "      <td>27.207500</td>\n",
       "      <td>27.487499</td>\n",
       "      <td>25.821573</td>\n",
       "      <td>110528000</td>\n",
       "    </tr>\n",
       "    <tr>\n",
       "      <th>2016-11-18</th>\n",
       "      <td>27.430000</td>\n",
       "      <td>27.635000</td>\n",
       "      <td>27.415001</td>\n",
       "      <td>27.514999</td>\n",
       "      <td>25.847408</td>\n",
       "      <td>113715600</td>\n",
       "    </tr>\n",
       "  </tbody>\n",
       "</table>\n",
       "</div>"
      ],
      "text/plain": [
       "                 Open       High        Low      Close  Adj Close     Volume\n",
       "Date                                                                        \n",
       "2016-11-14  26.927500  26.952499  26.020000  26.427500  24.825821  204702000\n",
       "2016-11-15  26.642500  26.920000  26.540001  26.777500  25.154610  129058000\n",
       "2016-11-16  26.674999  27.557501  26.650000  27.497499  25.830971  235362000\n",
       "2016-11-17  27.452499  27.587500  27.207500  27.487499  25.821573  110528000\n",
       "2016-11-18  27.430000  27.635000  27.415001  27.514999  25.847408  113715600"
      ]
     },
     "execution_count": 4,
     "metadata": {},
     "output_type": "execute_result"
    }
   ],
   "source": [
    "dataframe = pd.read_csv('Dataset/AAPL.csv', index_col=0)\n",
    "dataframe.head()"
   ]
  },
  {
   "cell_type": "code",
   "execution_count": 5,
   "id": "ccf3fc76-35f4-4906-911c-0c68e4517a3d",
   "metadata": {},
   "outputs": [
    {
     "name": "stdout",
     "output_type": "stream",
     "text": [
      "<class 'pandas.core.frame.DataFrame'>\n",
      "Index: 1008 entries, 2016-11-14 to 2020-11-13\n",
      "Data columns (total 6 columns):\n",
      " #   Column     Non-Null Count  Dtype  \n",
      "---  ------     --------------  -----  \n",
      " 0   Open       1008 non-null   float64\n",
      " 1   High       1008 non-null   float64\n",
      " 2   Low        1008 non-null   float64\n",
      " 3   Close      1008 non-null   float64\n",
      " 4   Adj Close  1008 non-null   float64\n",
      " 5   Volume     1008 non-null   int64  \n",
      "dtypes: float64(5), int64(1)\n",
      "memory usage: 55.1+ KB\n"
     ]
    }
   ],
   "source": [
    "dataframe.info()"
   ]
  },
  {
   "cell_type": "code",
   "execution_count": 6,
   "id": "9bdbca07-3f89-46cd-85fa-de429628b1f4",
   "metadata": {},
   "outputs": [],
   "source": [
    "dataset = dataframe[['Open']] # 1 - 1\n",
    "dataset = dataset.values.astype('float32')"
   ]
  },
  {
   "cell_type": "code",
   "execution_count": 7,
   "id": "bdaf5905-0222-4a32-b57f-8aee1484c672",
   "metadata": {},
   "outputs": [],
   "source": [
    "scaler = MinMaxScaler(feature_range=(0,1))\n",
    "dataset = scaler.fit_transform(dataset)"
   ]
  },
  {
   "cell_type": "code",
   "execution_count": 8,
   "id": "eda9375f-4838-4cdd-8db6-13f3c0ec1073",
   "metadata": {},
   "outputs": [],
   "source": [
    "#split into train and test sets\n",
    "train_size = int(len(dataset) * 0.8)\n",
    "test_size = len(dataset) - train_size\n",
    "train,test = dataset[0:train_size,:], dataset[train_size:len(dataset),:]"
   ]
  },
  {
   "cell_type": "code",
   "execution_count": 9,
   "id": "cd4924a4-e042-4a5c-b7f1-9c281364cf66",
   "metadata": {},
   "outputs": [],
   "source": [
    "#reshape into X=t and Y=t+1\n",
    "look_back = 1\n",
    "trainX, trainY = create_dataset(train, look_back)\n",
    "testX, testY = create_dataset(test, look_back)"
   ]
  },
  {
   "cell_type": "code",
   "execution_count": 10,
   "id": "a08e50e8-dabc-474b-ac31-d901d98d7ec8",
   "metadata": {},
   "outputs": [
    {
     "data": {
      "text/plain": [
       "numpy.ndarray"
      ]
     },
     "execution_count": 10,
     "metadata": {},
     "output_type": "execute_result"
    }
   ],
   "source": [
    "type(trainX)"
   ]
  },
  {
   "cell_type": "code",
   "execution_count": 11,
   "id": "9ad3bbae-ce40-4d45-ada5-a271647025e9",
   "metadata": {},
   "outputs": [
    {
     "name": "stdout",
     "output_type": "stream",
     "text": [
      "[[0.00256878]\n",
      " [0.        ]\n",
      " [0.00029293]\n",
      " [0.00730075]\n",
      " [0.00709796]]\n",
      "[0.         0.00029293 0.00730075 0.00709796 0.00799929]\n"
     ]
    }
   ],
   "source": [
    "print(trainX[:5])\n",
    "print(trainY[:5])"
   ]
  },
  {
   "cell_type": "code",
   "execution_count": 12,
   "id": "3c7923a1-8532-4426-83be-0acefb34fe50",
   "metadata": {},
   "outputs": [
    {
     "name": "stdout",
     "output_type": "stream",
     "text": [
      "[[0.48214254]\n",
      " [0.4830213 ]\n",
      " [0.44554856]\n",
      " [0.47035763]\n",
      " [0.48885736]]\n",
      "[0.4830213  0.44554856 0.47035763 0.48885736 0.48671678]\n"
     ]
    }
   ],
   "source": [
    "print(testX[:5])\n",
    "print(testY[:5])"
   ]
  },
  {
   "cell_type": "code",
   "execution_count": 13,
   "id": "7211f805-63ee-4904-9655-a19bcc758207",
   "metadata": {},
   "outputs": [],
   "source": [
    "# reshape input to be [samples, time steps, features]\n",
    "trainX = numpy.reshape(trainX, (trainX.shape[0], 1, trainX.shape[1]))\n",
    "testX = numpy.reshape(testX, (testX.shape[0], 1, testX.shape[1]))"
   ]
  },
  {
   "cell_type": "code",
   "execution_count": 14,
   "id": "d7db0796-f2d3-4200-94fa-312c4bb52eca",
   "metadata": {},
   "outputs": [],
   "source": [
    "model = Sequential()\n",
    "model.add(LSTM(32, input_shape=(1, look_back)))\n",
    "model.add(Dense(1))"
   ]
  },
  {
   "cell_type": "code",
   "execution_count": 15,
   "id": "771cd8e1-6e60-468f-b929-7b5c03b729b5",
   "metadata": {},
   "outputs": [
    {
     "name": "stdout",
     "output_type": "stream",
     "text": [
      "Model: \"sequential\"\n",
      "_________________________________________________________________\n",
      " Layer (type)                Output Shape              Param #   \n",
      "=================================================================\n",
      " lstm (LSTM)                 (None, 32)                4352      \n",
      "                                                                 \n",
      " dense (Dense)               (None, 1)                 33        \n",
      "                                                                 \n",
      "=================================================================\n",
      "Total params: 4,385\n",
      "Trainable params: 4,385\n",
      "Non-trainable params: 0\n",
      "_________________________________________________________________\n"
     ]
    }
   ],
   "source": [
    "model.summary()"
   ]
  },
  {
   "cell_type": "code",
   "execution_count": 16,
   "id": "50993a21-7c21-490f-b90c-1bc0df2fe0fc",
   "metadata": {},
   "outputs": [
    {
     "name": "stdout",
     "output_type": "stream",
     "text": [
      "Epoch 1/50\n",
      "7/7 [==============================] - 16s 698ms/step - loss: 0.0328 - val_loss: 0.3268\n",
      "Epoch 2/50\n",
      "7/7 [==============================] - 0s 46ms/step - loss: 0.0265 - val_loss: 0.2969\n",
      "Epoch 3/50\n",
      "7/7 [==============================] - 0s 46ms/step - loss: 0.0212 - val_loss: 0.2684\n",
      "Epoch 4/50\n",
      "7/7 [==============================] - 0s 46ms/step - loss: 0.0167 - val_loss: 0.2417\n",
      "Epoch 5/50\n",
      "7/7 [==============================] - 0s 39ms/step - loss: 0.0129 - val_loss: 0.2170\n",
      "Epoch 6/50\n",
      "7/7 [==============================] - 0s 21ms/step - loss: 0.0101 - val_loss: 0.1946\n",
      "Epoch 7/50\n",
      "7/7 [==============================] - 0s 28ms/step - loss: 0.0080 - val_loss: 0.1751\n",
      "Epoch 8/50\n",
      "7/7 [==============================] - 0s 35ms/step - loss: 0.0067 - val_loss: 0.1582\n",
      "Epoch 9/50\n",
      "7/7 [==============================] - 0s 47ms/step - loss: 0.0060 - val_loss: 0.1447\n",
      "Epoch 10/50\n",
      "7/7 [==============================] - 0s 49ms/step - loss: 0.0056 - val_loss: 0.1341\n",
      "Epoch 11/50\n",
      "7/7 [==============================] - 0s 39ms/step - loss: 0.0055 - val_loss: 0.1269\n",
      "Epoch 12/50\n",
      "7/7 [==============================] - 0s 40ms/step - loss: 0.0054 - val_loss: 0.1227\n",
      "Epoch 13/50\n",
      "7/7 [==============================] - 0s 56ms/step - loss: 0.0053 - val_loss: 0.1203\n",
      "Epoch 14/50\n",
      "7/7 [==============================] - 0s 33ms/step - loss: 0.0052 - val_loss: 0.1187\n",
      "Epoch 15/50\n",
      "7/7 [==============================] - 0s 29ms/step - loss: 0.0050 - val_loss: 0.1170\n",
      "Epoch 16/50\n",
      "7/7 [==============================] - 0s 21ms/step - loss: 0.0049 - val_loss: 0.1142\n",
      "Epoch 17/50\n",
      "7/7 [==============================] - 0s 25ms/step - loss: 0.0048 - val_loss: 0.1115\n",
      "Epoch 18/50\n",
      "7/7 [==============================] - 0s 37ms/step - loss: 0.0047 - val_loss: 0.1086\n",
      "Epoch 19/50\n",
      "7/7 [==============================] - 0s 39ms/step - loss: 0.0046 - val_loss: 0.1053\n",
      "Epoch 20/50\n",
      "7/7 [==============================] - 0s 52ms/step - loss: 0.0045 - val_loss: 0.1017\n",
      "Epoch 21/50\n",
      "7/7 [==============================] - 0s 47ms/step - loss: 0.0043 - val_loss: 0.0976\n",
      "Epoch 22/50\n",
      "7/7 [==============================] - 0s 43ms/step - loss: 0.0042 - val_loss: 0.0942\n",
      "Epoch 23/50\n",
      "7/7 [==============================] - 0s 41ms/step - loss: 0.0041 - val_loss: 0.0913\n",
      "Epoch 24/50\n",
      "7/7 [==============================] - 0s 23ms/step - loss: 0.0040 - val_loss: 0.0886\n",
      "Epoch 25/50\n",
      "7/7 [==============================] - 0s 21ms/step - loss: 0.0038 - val_loss: 0.0848\n",
      "Epoch 26/50\n",
      "7/7 [==============================] - 0s 25ms/step - loss: 0.0037 - val_loss: 0.0814\n",
      "Epoch 27/50\n",
      "7/7 [==============================] - 0s 41ms/step - loss: 0.0036 - val_loss: 0.0773\n",
      "Epoch 28/50\n",
      "7/7 [==============================] - 0s 34ms/step - loss: 0.0034 - val_loss: 0.0741\n",
      "Epoch 29/50\n",
      "7/7 [==============================] - 0s 44ms/step - loss: 0.0033 - val_loss: 0.0714\n",
      "Epoch 30/50\n",
      "7/7 [==============================] - 0s 46ms/step - loss: 0.0032 - val_loss: 0.0682\n",
      "Epoch 31/50\n",
      "7/7 [==============================] - 0s 66ms/step - loss: 0.0030 - val_loss: 0.0647\n",
      "Epoch 32/50\n",
      "7/7 [==============================] - 0s 42ms/step - loss: 0.0029 - val_loss: 0.0603\n",
      "Epoch 33/50\n",
      "7/7 [==============================] - 0s 24ms/step - loss: 0.0028 - val_loss: 0.0557\n",
      "Epoch 34/50\n",
      "7/7 [==============================] - 0s 25ms/step - loss: 0.0026 - val_loss: 0.0521\n",
      "Epoch 35/50\n",
      "7/7 [==============================] - 0s 37ms/step - loss: 0.0025 - val_loss: 0.0494\n",
      "Epoch 36/50\n",
      "7/7 [==============================] - 0s 48ms/step - loss: 0.0023 - val_loss: 0.0464\n",
      "Epoch 37/50\n",
      "7/7 [==============================] - 0s 43ms/step - loss: 0.0022 - val_loss: 0.0427\n",
      "Epoch 38/50\n",
      "7/7 [==============================] - 0s 46ms/step - loss: 0.0021 - val_loss: 0.0391\n",
      "Epoch 39/50\n",
      "7/7 [==============================] - 0s 50ms/step - loss: 0.0019 - val_loss: 0.0353\n",
      "Epoch 40/50\n",
      "7/7 [==============================] - 0s 40ms/step - loss: 0.0018 - val_loss: 0.0321\n",
      "Epoch 41/50\n",
      "7/7 [==============================] - 0s 30ms/step - loss: 0.0017 - val_loss: 0.0285\n",
      "Epoch 42/50\n",
      "7/7 [==============================] - 0s 20ms/step - loss: 0.0015 - val_loss: 0.0257\n",
      "Epoch 43/50\n",
      "7/7 [==============================] - 0s 23ms/step - loss: 0.0014 - val_loss: 0.0232\n",
      "Epoch 44/50\n",
      "7/7 [==============================] - 0s 20ms/step - loss: 0.0013 - val_loss: 0.0206\n",
      "Epoch 45/50\n",
      "7/7 [==============================] - 0s 29ms/step - loss: 0.0011 - val_loss: 0.0181\n",
      "Epoch 46/50\n",
      "7/7 [==============================] - 0s 33ms/step - loss: 0.0010 - val_loss: 0.0155\n",
      "Epoch 47/50\n",
      "7/7 [==============================] - 0s 45ms/step - loss: 9.3003e-04 - val_loss: 0.0131\n",
      "Epoch 48/50\n",
      "7/7 [==============================] - 0s 48ms/step - loss: 8.2925e-04 - val_loss: 0.0111\n",
      "Epoch 49/50\n",
      "7/7 [==============================] - 0s 41ms/step - loss: 7.3338e-04 - val_loss: 0.0097\n",
      "Epoch 50/50\n",
      "7/7 [==============================] - 0s 45ms/step - loss: 6.4957e-04 - val_loss: 0.0082\n"
     ]
    }
   ],
   "source": [
    "model.compile(loss='mean_squared_error', optimizer='adam')\n",
    "history = model.fit(trainX, trainY,\n",
    "                    validation_data=(testX, testY),\n",
    "                    epochs=50,\n",
    "                    batch_size=128\n",
    "                   )\n"
   ]
  },
  {
   "cell_type": "code",
   "execution_count": 17,
   "id": "84a7b7f4-69af-4cc2-a0d1-70b665b5c0a7",
   "metadata": {},
   "outputs": [
    {
     "data": {
      "image/png": "[encoded data removed]",
      "text/plain": [
       "<Figure size 432x288 with 1 Axes>"
      ]
     },
     "metadata": {
      "needs_background": "light"
     },
     "output_type": "display_data"
    }
   ],
   "source": [
    "# plot history\n",
    "plt.plot(history.history['loss'], label='train')\n",
    "plt.plot(history.history['val_loss'], label='test')\n",
    "plt.legend()\n",
    "plt.show()"
   ]
  },
  {
   "cell_type": "code",
   "execution_count": 18,
   "id": "e047500b-aa6c-4e94-95ea-fa4787eb9509",
   "metadata": {},
   "outputs": [
    {
     "name": "stdout",
     "output_type": "stream",
     "text": [
      "26/26 [==============================] - 3s 5ms/step\n",
      "7/7 [==============================] - 0s 3ms/step\n"
     ]
    }
   ],
   "source": [
    "# make predictions\n",
    "trainPredict = model.predict(trainX)\n",
    "testPredict = model.predict(testX)"
   ]
  },
  {
   "cell_type": "code",
   "execution_count": 19,
   "id": "a5be0b29-2e57-4974-85b3-809cf1532f81",
   "metadata": {},
   "outputs": [],
   "source": [
    "# invert predictions\n",
    "trainPredict = scaler.inverse_transform(trainPredict)\n",
    "trainY = scaler.inverse_transform([trainY])"
   ]
  },
  {
   "cell_type": "code",
   "execution_count": 20,
   "id": "a53708dd-b8fd-431e-b20d-a20fbb4e998b",
   "metadata": {},
   "outputs": [],
   "source": [
    "testPredict = scaler.inverse_transform(testPredict)\n",
    "testY = scaler.inverse_transform([testY])"
   ]
  },
  {
   "cell_type": "code",
   "execution_count": 21,
   "id": "213f7857-4fea-4f59-8f78-5366577e3a91",
   "metadata": {},
   "outputs": [
    {
     "data": {
      "text/plain": [
       "array([26.64249951, 26.67499903, 27.45249934, 27.43000031, 27.53000022])"
      ]
     },
     "execution_count": 21,
     "metadata": {},
     "output_type": "execute_result"
    }
   ],
   "source": [
    "trainY[0][:5]"
   ]
  },
  {
   "cell_type": "code",
   "execution_count": 22,
   "id": "241fdd8f-4d4a-4bd7-adce-decd223351a9",
   "metadata": {},
   "outputs": [
    {
     "data": {
      "text/plain": [
       "array([[32.448944],\n",
       "       [32.25766 ],\n",
       "       [32.279457],\n",
       "       [32.80201 ],\n",
       "       [32.786858]], dtype=float32)"
      ]
     },
     "execution_count": 22,
     "metadata": {},
     "output_type": "execute_result"
    }
   ],
   "source": [
    "trainPredict[:5]"
   ]
  },
  {
   "cell_type": "code",
   "execution_count": 23,
   "id": "5175ed08-b737-4317-9a24-ebcc07af7898",
   "metadata": {},
   "outputs": [
    {
     "name": "stdout",
     "output_type": "stream",
     "text": [
      "Train RMSE: 2.72 RMSE\n",
      "Test RMSE: 10.03 RMSE\n"
     ]
    }
   ],
   "source": [
    "# calculate root mean squared error\n",
    "train_rmse = math.sqrt(mean_squared_error(trainY[0], trainPredict[:,0]))\n",
    "print('Train RMSE: %.2f RMSE' % (train_rmse))\n",
    "test_rmse = math.sqrt(mean_squared_error(testY[0], testPredict[:,0]))\n",
    "print('Test RMSE: %.2f RMSE' % (test_rmse))"
   ]
  },
  {
   "cell_type": "code",
   "execution_count": 24,
   "id": "571427d5-b156-45ea-a84f-4ba82604e70c",
   "metadata": {},
   "outputs": [
    {
     "name": "stdout",
     "output_type": "stream",
     "text": [
      "Train MAE: 2.12 MAE\n",
      "test MAE: 9.19 MAE\n"
     ]
    }
   ],
   "source": [
    "train_mae = mean_absolute_error(trainY[0], trainPredict[:,0])\n",
    "print('Train MAE: %.2f MAE' % (train_mae))\n",
    "test_mae = mean_absolute_error(testY[0], testPredict[:,0])\n",
    "print('test MAE: %.2f MAE' % (test_mae))"
   ]
  },
  {
   "cell_type": "code",
   "execution_count": 25,
   "id": "f412ce15-5f55-47cb-b64e-065970227f01",
   "metadata": {},
   "outputs": [],
   "source": [
    "# shift train predictions for plotting\n",
    "trainPredictPlot = numpy.empty_like(dataset)\n",
    "trainPredictPlot[:, :] = numpy.nan\n",
    "trainPredictPlot[look_back:len(trainPredict)+look_back, :] = trainPredict\n",
    "# shift test predictions for plotting\n",
    "testPredictPlot = numpy.empty_like(dataset)\n",
    "testPredictPlot[:, :] = numpy.nan\n",
    "testPredictPlot[len(trainPredict)+(look_back*2)+1:len(dataset)-1, :] = testPredict"
   ]
  },
  {
   "cell_type": "code",
   "execution_count": 26,
   "id": "750167ba-7808-45bf-a0d1-0e3bb9d941ff",
   "metadata": {},
   "outputs": [
    {
     "data": {
      "image/png": "[encoded data removed]",
      "text/plain": [
       "<Figure size 720x432 with 1 Axes>"
      ]
     },
     "metadata": {
      "needs_background": "light"
     },
     "output_type": "display_data"
    }
   ],
   "source": [
    "# plot baseline and predictions\n",
    "plt.figure(figsize=(10,6))\n",
    "plt.plot(scaler.inverse_transform(dataset), label='Real Data')\n",
    "plt.plot(trainPredictPlot, label='trainPredict')\n",
    "plt.plot(testPredictPlot, label='testPredict')\n",
    "plt.legend(title=\"Notes\")\n",
    "plt.show()"
   ]
  },
  {
   "cell_type": "code",
   "execution_count": null,
   "id": "6617ee7c-d043-478a-8bb9-ca47bc85ac82",
   "metadata": {},
   "outputs": [],
   "source": []
  }
 ],
 "metadata": {
  "kernelspec": {
   "display_name": "Python 3 (ipykernel)",
   "language": "python",
   "name": "python3"
  },
  "language_info": {
   "codemirror_mode": {
    "name": "ipython",
    "version": 3
   },
   "file_extension": ".py",
   "mimetype": "text/x-python",
   "name": "python",
   "nbconvert_exporter": "python",
   "pygments_lexer": "ipython3",
   "version": "3.8.9"
  }
 },
 "nbformat": 4,
 "nbformat_minor": 5
}
